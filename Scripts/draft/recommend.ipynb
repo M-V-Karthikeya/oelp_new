{
 "cells": [
  {
   "cell_type": "code",
   "execution_count": 1,
   "metadata": {},
   "outputs": [
    {
     "name": "stderr",
     "output_type": "stream",
     "text": [
      "[nltk_data] Downloading package stopwords to\n",
      "[nltk_data]     C:\\Users\\karth\\AppData\\Roaming\\nltk_data...\n",
      "[nltk_data]   Package stopwords is already up-to-date!\n"
     ]
    }
   ],
   "source": [
    "import nltk\n",
    "from nltk.corpus import stopwords\n",
    "nltk.download('stopwords')\n",
    "stop_words = set(stopwords.words('english'))\n",
    "\n",
    "def filter_words(story):\n",
    "    story = story.split(' ')\n",
    "    for i in story:\n",
    "        if(i in stop_words):\n",
    "            story.remove(i)\n",
    "    return story"
   ]
  },
  {
   "cell_type": "code",
   "execution_count": 2,
   "metadata": {},
   "outputs": [],
   "source": [
    "import pandas as pd\n",
    "import numpy as np\n",
    "from sklearn.metrics.pairwise import cosine_similarity\n",
    "from sklearn.feature_extraction.text import CountVectorizer\n",
    "\n",
    "df_key = pd.read_csv('/Users/karth/OneDrive/Desktop/OELP/test/keywords.csv',delimiter='\\t')\n",
    "df  = pd.read_csv('/Users/karth/OneDrive/Desktop/OELP/test/features.csv',delimiter='\\t')\n",
    "\n",
    "s = set()                           # set of all unique keywords\n",
    "for i in df_key['k_h']:\n",
    "    x = eval(i)\n",
    "    for j in x.keys():\n",
    "        s.add(j)\n",
    "#print(s)                               \n",
    "M = []                             # M is the matrix where each row represents each movie and column represents each unique keyword\n",
    "for i in df_key['k_h']:\n",
    "    x = eval(i)\n",
    "    l = []\n",
    "    for j in s:\n",
    "        if(j in x.keys()):\n",
    "            l.append(x[j])\n",
    "        else:\n",
    "            l.append(0)\n",
    "    M.append(l)\n",
    "mat = np.array(M)\n",
    "sim_mat = cosine_similarity(mat)          # first similarity matrix which takes only keywords and its helpful score as features\n",
    "#print(sim_mat)"
   ]
  },
  {
   "cell_type": "code",
   "execution_count": 3,
   "metadata": {},
   "outputs": [],
   "source": [
    "\n",
    "df['avg_rating'] = df['avg_rating'].astype(str)\n",
    "features = ['director','cast','avg_rating','writer','title']    # these are the features for second similarity matrix\n",
    "\n",
    "def combine(df_row):                            # combining all the unique features in single line\n",
    "    x = ''\n",
    "    for i in features[:]:\n",
    "        x+=df_row[i]\n",
    "        x+=','\n",
    "    story_arr = filter_words(df_row['storyline'])\n",
    "    for i in story_arr:\n",
    "        x+=i\n",
    "        x+=','\n",
    "    return x\n",
    "\n",
    "cv = CountVectorizer()                                     # this counts frequency of each unique feature in each movie\n",
    "df['final'] = df.apply(combine,axis=1)\n",
    "count_matrix = cv.fit_transform(df['final'])\n",
    "cos_sim = cosine_similarity(count_matrix)\n",
    "#print(cv.get_feature_names_out())\n",
    "#print(count_matrix.toarray())\n",
    "#print(cos_sim)\n"
   ]
  },
  {
   "cell_type": "code",
   "execution_count": 5,
   "metadata": {},
   "outputs": [
    {
     "name": "stdout",
     "output_type": "stream",
     "text": [
      "0.5000000000000003\n",
      "1604\n",
      "0.09366172991700071\n",
      "498\n",
      "0.08792304317977813\n",
      "1298\n",
      "0.08502263415391632\n",
      "902\n",
      "0.08425540135365252\n",
      "1473\n",
      "0.08393251018367007\n",
      "243\n",
      "0.08104650259457144\n",
      "1555\n",
      "0.07719373413458974\n",
      "280\n",
      "0.0743324842964186\n",
      "35\n",
      "0.07018936628063739\n",
      "1399\n",
      "0.06973305149813867\n",
      "1477\n",
      "First Man    A look at the life of the astronaut, Neil Armstrong, and the legendary space mission that led him to become the first man to walk on the Moon on July 20, 1969.\n",
      "Why Him?    A holiday gathering threatens to go off the rails when Ned Fleming realizes that his daughter's Silicon Valley millionaire boyfriend is about to pop the question.\n",
      "Steve Jobs    Steve Jobs takes us behind the scenes of the digital revolution, to paint a portrait of the man at its epicenter. The story unfolds backstage at three iconic product launches, ending in 1998 with the unveiling of the iMac.\n",
      "On the Rocks    A young mother reconnects with her larger-than-life playboy father on an adventure through New York.\n",
      "My Big Fat Greek Wedding 2    A Portokalos family secret brings the beloved characters back together for an even bigger and Greeker wedding.\n",
      "The Space Between Us    The first human born on Mars travels to Earth for the first time, experiencing the wonders of the planet through fresh eyes. He embarks on an adventure with a street-smart girl to discover how he came to be.\n",
      "Bill & Ted Face the Music    Once told they'd save the universe during a time-traveling adventure, two would-be rockers from San Dimas, California find themselves as middle-aged dads still trying to crank out a hit song and fulfill their destiny.\n",
      "Tenet    Armed with only one word, Tenet, and fighting for the survival of the entire world, a Protagonist journeys through a twilight world of international espionage on a mission that will unfold in something beyond real time.\n",
      "Leave No Trace    A father and his thirteen-year-old daughter are living an ideal existence in a vast urban park in Portland, Oregon when a small mistake derails their lives forever.\n",
      "Christopher Robin    A working-class family man, Christopher Robin, encounters his childhood friend Winnie-the-Pooh, who helps him to rediscover the joys of life.\n"
     ]
    }
   ],
   "source": [
    "final = []                                                 # This is the final matrix which is combination of both the above matrices\n",
    "for i in range(len(sim_mat)):\n",
    "    row = []                                               # both rows and columns represents corresponding movies and the value in that entry will be final similarity score of those 2 movies\n",
    "    for j in range(len(sim_mat[0])):\n",
    "        b = ((0.6*sim_mat[i][j])+(0.4*cos_sim[i][j]))/2    # we are considering more probability (0.6) to first matrix because giving more priority to keywords and their helpful score will give more accurate recommendation\n",
    "        row.append(b)                      # final similarity score = [(0.6)*(similarity score from keywords alone) + (0.4)*(similarity score from remaining features)] \n",
    "    final.append(row)                 # values 0.6 and 0.4 were decided by multiple trails and these values gave more accurate recommendation\n",
    "\n",
    "titles = list(df['title'])                      # now from index of final matrix we will get titlee and story\n",
    "story = list(df['storyline'])\n",
    "t_i = {}\n",
    "i_t = {}\n",
    "for i in range(len(titles)):\n",
    "    t_i[titles[i]] = i\n",
    "    i_t[i] = titles[i]\n",
    "\n",
    "def find(word):\n",
    "    ind = t_i[word]\n",
    "    inds = []\n",
    "    m = list(final[ind]).copy()\n",
    "    for i in range(11):\n",
    "        x = max(m)                             # we are recommending top 10 highest similarity scores\n",
    "        print(x)\n",
    "        j = m.index(x)\n",
    "        print(m.index(x))\n",
    "        m[j] = -2\n",
    "        inds.append(j)\n",
    "    for i in inds[1:]:\n",
    "        print(i_t[i],'  ',story[i])\n",
    "find('Interstellar')\n"
   ]
  },
  {
   "cell_type": "code",
   "execution_count": null,
   "metadata": {},
   "outputs": [],
   "source": []
  }
 ],
 "metadata": {
  "kernelspec": {
   "display_name": "Python 3",
   "language": "python",
   "name": "python3"
  },
  "language_info": {
   "codemirror_mode": {
    "name": "ipython",
    "version": 3
   },
   "file_extension": ".py",
   "mimetype": "text/x-python",
   "name": "python",
   "nbconvert_exporter": "python",
   "pygments_lexer": "ipython3",
   "version": "3.11.6"
  },
  "orig_nbformat": 4
 },
 "nbformat": 4,
 "nbformat_minor": 2
}
