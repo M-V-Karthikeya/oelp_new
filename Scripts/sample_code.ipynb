{
 "cells": [
  {
   "cell_type": "code",
   "execution_count": 10,
   "metadata": {},
   "outputs": [
    {
     "name": "stdout",
     "output_type": "stream",
     "text": [
      "['also' 'and' 'hello' 'hi' 'im' 'karthik' 'ryan']\n",
      "[[0 0 0 1 1 1 0]\n",
      " [1 1 1 0 2 1 1]]\n",
      "[[1.         0.57735027]\n",
      " [0.57735027 1.        ]]\n"
     ]
    }
   ],
   "source": [
    "import pandas as pd\n",
    "from sklearn.feature_extraction.text import CountVectorizer\n",
    "from sklearn.metrics.pairwise import cosine_similarity\n",
    "\n",
    "a = 'hi im karthik'\n",
    "b = 'hello im karthik and im also ryan'\n",
    "cs = [a,b]\n",
    "cv = CountVectorizer()\n",
    "cm = cv.fit_transform(cs)\n",
    "print(cv.get_feature_names_out())\n",
    "print(cm.toarray())\n",
    "cossim = cosine_similarity(cm)\n",
    "print(cossim)"
   ]
  },
  {
   "cell_type": "code",
   "execution_count": null,
   "metadata": {},
   "outputs": [],
   "source": []
  }
 ],
 "metadata": {
  "kernelspec": {
   "display_name": "Python 3",
   "language": "python",
   "name": "python3"
  },
  "language_info": {
   "codemirror_mode": {
    "name": "ipython",
    "version": 3
   },
   "file_extension": ".py",
   "mimetype": "text/x-python",
   "name": "python",
   "nbconvert_exporter": "python",
   "pygments_lexer": "ipython3",
   "version": "3.11.5"
  },
  "orig_nbformat": 4
 },
 "nbformat": 4,
 "nbformat_minor": 2
}
