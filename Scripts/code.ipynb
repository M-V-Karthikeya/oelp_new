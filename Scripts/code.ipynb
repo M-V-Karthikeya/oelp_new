{
 "cells": [
  {
   "cell_type": "code",
   "execution_count": 2,
   "metadata": {},
   "outputs": [
    {
     "name": "stderr",
     "output_type": "stream",
     "text": [
      "[nltk_data] Downloading package stopwords to\n",
      "[nltk_data]     C:\\Users\\karth\\AppData\\Roaming\\nltk_data...\n",
      "[nltk_data]   Package stopwords is already up-to-date!\n"
     ]
    }
   ],
   "source": [
    "import nltk\n",
    "from nltk.corpus import stopwords\n",
    "nltk.download('stopwords')\n",
    "stop_words = set(stopwords.words('english'))\n",
    "\n",
    "def filter_words(story):\n",
    "    story = story.split(' ')\n",
    "    for i in story:\n",
    "        if(i in stop_words):\n",
    "            story.remove(i)\n",
    "    return story"
   ]
  },
  {
   "cell_type": "code",
   "execution_count": 14,
   "metadata": {},
   "outputs": [
    {
     "name": "stdout",
     "output_type": "stream",
     "text": [
      "The Dark Knight Rises    Eight years after the Joker's reign of chaos, Batman is coerced out of exile with the assistance of the mysterious Selina Kyle in order to defend Gotham City from the vicious guerrilla terrorist Bane.\n",
      "The Irishman    An illustration of Frank Sheeran's life, from W.W.II veteran to hit-man for the Bufalino crime family and his alleged assassination of his close friend Jimmy Hoffa.\n",
      "Babylon    A tale of outsized ambition and outrageous excess, it traces the rise and fall of multiple characters during an era of unbridled decadence and depravity in early Hollywood.\n",
      "Batman v Superman: Dawn of Justice    Batman is manipulated by Lex Luthor to fear Superman. Superman�s existence is meanwhile dividing the world and he is framed for murder during an international crisis. The heroes clash and force the neutral Wonder Woman to reemerge.\n",
      "Men in Black 3    Agent J travels in time to M.I.B.'s early days in 1969 to stop an alien from assassinating his friend Agent K and changing history.\n",
      "The Big Short    In 2006-2007 a group of investors bet against the United States mortgage market. In their research, they discover how flawed and corrupt the market is.\n",
      "Captain America: The Winter Soldier    As Steve Rogers struggles to embrace his role in the modern world, he teams up with a fellow Avenger and S.H.I.E.L.D agent, Black Widow, to battle a new threat from history: an assassin known as the Winter Soldier.\n",
      "Ghostbusters    Following a ghost invasion of Manhattan, paranormal enthusiasts Erin Gilbert and Abby Yates, nuclear engineer Jillian Holtzmann, and subway worker Patty Tolan band together to stop the otherworldly threat.\n",
      "Patriots Day    The story of the 2013 Boston Marathon bombing and the aftermath, which includes the city-wide manhunt to find the terrorists responsible.\n"
     ]
    }
   ],
   "source": [
    "from pandas import read_csv\n",
    "from sklearn.feature_extraction.text import CountVectorizer\n",
    "from sklearn.metrics.pairwise import cosine_similarity\n",
    "\n",
    "df  = read_csv('/Users/karth/OneDrive/Desktop/OELP/Data/Dataset.csv',delimiter='\\t')\n",
    "df['avg_rating'] = df['avg_rating'].astype(str)\n",
    "features = ['keywords','director','cast','avg_rating','writer','title']\n",
    "\n",
    "def combine(df_row):\n",
    "    x = ''\n",
    "    for i in features[:]:\n",
    "        x+=df_row[i]\n",
    "        x+=','\n",
    "    story_arr = filter_words(df_row['storyline'])\n",
    "    for i in story_arr:\n",
    "        x+=i\n",
    "        x+=','\n",
    "    return x\n",
    "\n",
    "cv = CountVectorizer()\n",
    "df['final'] = df.apply(combine,axis=1)\n",
    "count_matrix = cv.fit_transform(df['final'])\n",
    "cos_sim = cosine_similarity(count_matrix)\n",
    "#print(cv.get_feature_names_out())\n",
    "#print(count_matrix.toarray())\n",
    "#print(cos_sim)\n",
    "titles = list(df['title'])\n",
    "story = list(df['storyline'])\n",
    "t_i = {}\n",
    "i_t = {}\n",
    "for i in range(len(titles)):\n",
    "    t_i[titles[i]] = i\n",
    "    i_t[i] = titles[i]\n",
    "\n",
    "def find(word):\n",
    "    ind = t_i[word]\n",
    "    inds = []\n",
    "    m = list(cos_sim[ind].copy())\n",
    "    for i in range(10):\n",
    "        x = max(m)\n",
    "        j = m.index(x)\n",
    "        m[j] = -2\n",
    "        inds.append(j)\n",
    "    for i in inds[1:]:\n",
    "        print(i_t[i],'  ',story[i])\n",
    "find('')"
   ]
  },
  {
   "cell_type": "code",
   "execution_count": null,
   "metadata": {},
   "outputs": [],
   "source": []
  },
  {
   "cell_type": "code",
   "execution_count": null,
   "metadata": {},
   "outputs": [],
   "source": []
  },
  {
   "cell_type": "code",
   "execution_count": null,
   "metadata": {},
   "outputs": [],
   "source": []
  }
 ],
 "metadata": {
  "kernelspec": {
   "display_name": "Python 3",
   "language": "python",
   "name": "python3"
  },
  "language_info": {
   "codemirror_mode": {
    "name": "ipython",
    "version": 3
   },
   "file_extension": ".py",
   "mimetype": "text/x-python",
   "name": "python",
   "nbconvert_exporter": "python",
   "pygments_lexer": "ipython3",
   "version": "3.11.5"
  },
  "orig_nbformat": 4
 },
 "nbformat": 4,
 "nbformat_minor": 2
}
