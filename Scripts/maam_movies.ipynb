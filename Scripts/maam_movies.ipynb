{
 "cells": [
  {
   "cell_type": "code",
   "execution_count": 1,
   "metadata": {},
   "outputs": [
    {
     "name": "stdout",
     "output_type": "stream",
     "text": [
      "A_Taste_of_Romance ..\n",
      "{'central valley california': '0', 'french chef': '0', 'grill': '0', 'ex firefighter': '0', 'father daughter relationship': '0', 'widower single women relationship': '0', 'loud music': '0', 'restaurant critic': '0', 'reference to cancer death': '0', 'grand opening': '0', 'health department': '0', 'crab cake': '0', 'lunch date': '0', 'character says just wanna be friends': '0', 'dinner date': '0', 'restaurant review': '0', 'interrupted conversation': '0', 'television studio': '0', 'kiss': '0', 'time jump': '0', 'marriage': '0', 'joint venture': '0', 'prank': '0', 'f rated': '0', 'picnic': '0'}\n",
      "Aamar_Tumi ..\n",
      "Aandhiyan_(1952_film) ..\n",
      "Amar_Prem_(1989_film) ..\n",
      "America_Abbayi ..\n",
      "{'tv mini series': '0', 'reference to 9 11': '0', '9 11': '0', 'world trade center manhattan new york city': '0', 'tragedy': '0', 'memory': '0', 'attack': '0', 'city': '0', 'survival': '0', 'national geographic': '0', 'timeframe 2000s': '0', '2000s': '0', 'year 2001': '0', 'september 11 2001': '0', 'tower': '0'}\n",
      "Apan_Amar_Apan ..\n",
      "Asha_O_Bhalobasha ..\n",
      "Bandhu_(2007_film) ..\n",
      "Chinnamanikkuyile ..\n"
     ]
    }
   ],
   "source": [
    "from selenium import webdriver\n",
    "from selenium.webdriver.chrome.service import Service as ChromeService\n",
    "from webdriver_manager.chrome import ChromeDriverManager\n",
    "from selenium.webdriver.common.by import By\n",
    "import pandas as pd\n",
    "import json\n",
    "\n",
    "d = pd.read_json('/Users/karth/Downloads/entity_dict.json',orient='index')\n",
    "\n",
    "for i in d[0].keys():\n",
    "    print(i,'..')\n",
    "    try:\n",
    "        options = webdriver.ChromeOptions() \n",
    "        options.add_argument('--headless') \n",
    "        driver = webdriver.Chrome(service=ChromeService(ChromeDriverManager().install()), options=options)\n",
    "        url = 'https://www.imdb.com/'\n",
    "        driver.get(url)\n",
    "        search = driver.find_element(By.ID,'suggestion-search')\n",
    "        submit = driver.find_element(By.ID,'suggestion-search-button')\n",
    "        search.send_keys(i)\n",
    "        submit.click()\n",
    "        try:\n",
    "            link = driver.find_element(By.XPATH,\"//a[@class='ipc-metadata-list-summary-item__t']\").get_attribute('href')\n",
    "            driver.get(link)\n",
    "            link = link.split('?')\n",
    "            link[0]+='keywords/'\n",
    "            driver.get(link[0])\n",
    "            data = driver.find_element(By.XPATH,\"//section[@class='ipc-page-section ipc-page-section--base']\")\n",
    "            k_h = {}\n",
    "            k = data.find_elements(By.XPATH,\"//a[@class='ipc-metadata-list-summary-item__t']\")\n",
    "            h = data.find_elements(By.XPATH,\"//span[@class='ipc-voting__label__count ipc-voting__label__count--up']\")\n",
    "            for i in range(len(k)):\n",
    "                k_h[k[i].text] = h[i].text\n",
    "            with open(\"/Users/karth/OneDrive/Desktop/OELP/Data/keyword_votes.json\", 'a',encoding='utf-8',newline='\\n') as outfile:\n",
    "                json.dump(k_h, outfile)\n",
    "            print(k_h)\n",
    "            driver.quit()\n",
    "        except:\n",
    "            driver.quit()\n",
    "    except:\n",
    "        continue"
   ]
  },
  {
   "cell_type": "code",
   "execution_count": null,
   "metadata": {},
   "outputs": [],
   "source": []
  }
 ],
 "metadata": {
  "kernelspec": {
   "display_name": "Python 3",
   "language": "python",
   "name": "python3"
  },
  "language_info": {
   "codemirror_mode": {
    "name": "ipython",
    "version": 3
   },
   "file_extension": ".py",
   "mimetype": "text/x-python",
   "name": "python",
   "nbconvert_exporter": "python",
   "pygments_lexer": "ipython3",
   "version": "3.11.5"
  },
  "orig_nbformat": 4
 },
 "nbformat": 4,
 "nbformat_minor": 2
}
